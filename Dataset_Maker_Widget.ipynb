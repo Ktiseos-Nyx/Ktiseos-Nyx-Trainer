{
 "cells": [
  {
   "cell_type": "code",
   "execution_count": null,
   "metadata": {},
   "outputs": [],
   "source": "# Dataset Maker - LoRA Training Assistant 📊\n\nThis notebook contains the **Dataset Widget** for preparing your training datasets. This handles:\n- Dataset upload and extraction  \n- Image tagging with WD14 taggers\n- Caption management and editing\n- Trigger word management\n\n## Instructions\n1. Run each cell in order\n2. Use the widget interfaces to configure your settings  \n3. When finished, move to the **Lora_Trainer_Widget.ipynb** notebook for actual training\n\n---\n\n## Dataset Preparation Widget\n\nfrom widgets.dataset_widget import DatasetWidget\n\n# Initialize and display the dataset widget\ndataset_widget = DatasetWidget()\ndataset_widget.display()"
  }
 ],
 "metadata": {
  "kernelspec": {
   "display_name": "Python 3",
   "language": "python",
   "name": "python3"
  },
  "language_info": {
   "codemirror_mode": {
    "name": "ipython",
    "version": 3
   },
   "file_extension": ".py",
   "mimetype": "text/x-python",
   "name": "python",
   "nbconvert_exporter": "python",
   "pygments_lexer": "ipython3",
   "version": "3.9.7"
  }
 },
 "nbformat": 4,
 "nbformat_minor": 4
}