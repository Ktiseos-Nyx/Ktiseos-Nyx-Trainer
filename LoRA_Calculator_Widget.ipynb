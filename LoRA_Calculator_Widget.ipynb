{
 "cells": [
  {
   "attachments": {},
   "cell_type": "markdown",
   "metadata": {},
   "source": [
    "#  <img src=\"assets/OTNDORODUSKFIXED.png\" width=\"32\" height=\"32\"> LoRA Step Calculator\n",
    "\n",
    "Use this widget to calculate the total training steps for your LoRA based on your dataset and training parameters."
   ]
  },
  {
   "cell_type": "code",
   "execution_count": null,
   "metadata": {},
   "outputs": [],
   "source": "# Run this cell to display the calculator widget\nfrom shared_managers import create_widget\n\n# Calculator doesn't need managers, but use consistent pattern\ncalculator = create_widget('calculator')\ncalculator.display()"
  }
 ],
 "metadata": {
  "kernelspec": {
   "display_name": "Python 3 (ipykernel)",
   "language": "python",
   "name": "python3"
  },
  "language_info": {
   "codemirror_mode": {
    "name": "ipython",
    "version": 3
   },
   "file_extension": ".py",
   "mimetype": "text/x-python",
   "name": "python",
   "nbconvert_exporter": "python",
   "pygments_lexer": "ipython3",
   "version": "3.12.9"
  }
 },
 "nbformat": 4,
 "nbformat_minor": 4
}