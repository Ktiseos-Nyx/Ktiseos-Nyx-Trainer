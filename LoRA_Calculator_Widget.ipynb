{
 "cells": [
  {
   "attachments": {},
   "cell_type": "markdown",
   "metadata": {},
   "source": "# <img src=\"assets/OTNDORODUSKFIXED.png\" width=\"32\" height=\"32\"> LoRA Step Calculator\n\n**What this notebook does:** Helps you calculate training steps based on your dataset and parameters.\n\n**Why use this:** \n- **Plan your training time**: See exactly how long training will take\n- **Understand the math**: Steps = (Images × Repeats × Epochs) ÷ Batch Size\n- **Optimize efficiency**: Balance training time vs quality\n- **Experiment safely**: Test different configurations\n\n**How it works:**\n- Enter your dataset size (number of images)\n- Set your training parameters (batch size, repeats, epochs)\n- Get instant feedback on total steps and time estimates\n\n**Note:** Optimal step counts vary greatly depending on:\n- **Optimizer choice**: CAME, Prodigy, AdamW all behave differently\n- **Learning rate**: Higher rates train faster\n- **Content complexity**: Characters vs styles vs concepts\n- **Dataset quality**: Better data trains faster"
  },
  {
   "cell_type": "code",
   "execution_count": null,
   "metadata": {},
   "outputs": [],
   "source": "# **CELL 1:** Step Calculator Widget\n# Run this cell to display the interactive step calculator\n\nfrom shared_managers import create_widget\n\n# Calculator doesn't need managers, but use consistent pattern\ncalculator = create_widget('calculator')\ncalculator.display()\n\n# The calculator will show:\n# - Total training steps based on your inputs\n# - Estimated training time \n# - Recommendations for your dataset size\n# - Warnings if steps are too high/low"
  }
 ],
 "metadata": {
  "kernelspec": {
   "display_name": "Python 3 (ipykernel)",
   "language": "python",
   "name": "python3"
  },
  "language_info": {
   "codemirror_mode": {
    "name": "ipython",
    "version": 3
   },
   "file_extension": ".py",
   "mimetype": "text/x-python",
   "name": "python",
   "nbconvert_exporter": "python",
   "pygments_lexer": "ipython3",
   "version": "3.12.9"
  }
 },
 "nbformat": 4,
 "nbformat_minor": 4
}