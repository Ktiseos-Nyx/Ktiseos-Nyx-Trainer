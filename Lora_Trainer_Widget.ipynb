{
 "cells": [
  {
   "cell_type": "code",
   "execution_count": null,
   "metadata": {},
   "outputs": [],
   "source": "# LoRA Trainer - Training & Management 🚀\n\nThis notebook contains widgets for LoRA training and post-processing:\n- Environment setup and model downloads\n- Training configuration and execution  \n- Post-training utilities (resizing, optimization)\n\n## Prerequisites\nComplete dataset preparation in **Dataset_Maker_Widget.ipynb** first!\n\n## Instructions\n1. Run the Setup widget first to prepare your environment\n2. Configure training parameters in the Training widget\n3. Monitor training progress and use utilities as needed\n\n---\n\n## Setup & Models Widget 🚩\n\nfrom widgets.setup_widget import SetupWidget\n\nsetup_widget = SetupWidget()\nsetup_widget.display()\n\n---\n\n## Training Configuration Widget ⭐\n\nfrom widgets.training_widget import TrainingWidget\n\ntraining_widget = TrainingWidget() \ntraining_widget.display()\n\n---\n\n## Utilities Widget 🔧\n\nfrom widgets.utilities_widget import UtilitiesWidget\n\nutilities_widget = UtilitiesWidget()\nutilities_widget.display()"
  }
 ],
 "metadata": {
  "kernelspec": {
   "display_name": "Python 3",
   "language": "python",
   "name": "python3"
  },
  "language_info": {
   "codemirror_mode": {
    "name": "ipython",
    "version": 3
   },
   "file_extension": ".py",
   "mimetype": "text/x-python",
   "name": "python",
   "nbconvert_exporter": "python",
   "pygments_lexer": "ipython3",
   "version": "3.9.7"
  }
 },
 "nbformat": 4,
 "nbformat_minor": 4
}